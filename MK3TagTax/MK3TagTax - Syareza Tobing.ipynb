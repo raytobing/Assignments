{
 "cells": [
  {
   "cell_type": "markdown",
   "metadata": {},
   "source": [
    "# Marios Karabarbounis {-}"
   ]
  },
  {
   "cell_type": "markdown",
   "metadata": {},
   "source": [
    "## A Road Map for Efficiently Taxing Heterogeneous Agents\n",
    "\n",
    "- Notebook created by Muhammad Syareza Lumban Tobing\n",
    "- The original paper can be obtained from the following link: https://www.aeaweb.org/articles?id=10.1257/mac.20140274"
   ]
  },
  {
   "cell_type": "markdown",
   "metadata": {},
   "source": [
    "## Summary\n",
    "\n",
    "This paper uses an OLG economy with endogenous savings and labor supply decisions to examine the potential of a \n",
    "tax system which depends on personal characteristics.\n",
    "  \n",
    "The main findings are as follows:  \n",
    "* The optimal tax schedule is hump shaped in age  \n",
    "* Optimal labor incame tax decreases linearly in household assets  \n",
    "* Tax subsidies aimed at two earner households improves labor supply"
   ]
  },
  {
   "cell_type": "markdown",
   "metadata": {},
   "source": [
    "## Overview\n",
    "\n",
    "### Tagging multiple characteristics to obtain optimal tax policies  \n",
    "* While previous studies such as Guner et al. (2012) focuses on a single characteristic tag to determine optimal tax policies, this paper uses three tags, namely age, household assets and filing status, jointly in order to asses if these tags are substitutes or complements within the optimal policy.  \n",
    "* This paper also contributes by analyzing the relation between human capital accumulation and optimal taxation. The  introduction of human capital accummulation allows a better estimation of the hum spahe of age-dependent taxes.\n",
    "\n",
    "### Non-technical methodological overview  \n",
    "The primary experiment of this paper replaces the prevailing labor income tax at that time with a revenue-netural labor income tax system that depends separately or jointly on age, household assets and filing status with an objective to optimize welfare of new household at the new steady state. The model used is an OLG economy with an endogenous savings and labor supply decisions with an incomplete asset market and a government that is operating a balanced pay-as-you go Social Security system.  \n",
    "The problem is solved in two stages. First, for a given set of instruments, the competitive equilibrium allocations which also satisfies the government budget constraint is solved. In the second stage, the tax parameters are then iterated over to find the set which maximizes the social welfare function.\n",
    "\n",
    "### Aggregate Effects of Reforms  \n",
    "Overall, a tax policy applying all three optimal tags would increase consumption by 6.4%, labor supply by 2.7%, capital by 19.7% and welfare by 1.5%. Age dependent taxes nudges hours of work towards younger ages and allows older workers to work almost as much as they do without the optimal tax in place. Furthermore, filing staturs increases female working hours without reducing male hours significantly."
   ]
  },
  {
   "cell_type": "markdown",
   "metadata": {},
   "source": [
    "## The Model\n",
    "\n",
    "### Demographics  \n",
    "The economy is populated by a continuum of households consisting of a male (m) and female (f) member with the same age and a total of J overlapping generation. Each household obtains utility from consumption and leisure. They are endowned with a unit of productive time which they split between work $h^m$ and leisure $h^f$. Households members also face an exogenous probability of losing their jobs denoted by $\\lambda^m$ and $\\lambda^f$ for male and female members respectively. Working members also pay a fixed cost $FC_j$ to work every period, which is expressed in utility terms and depends on age. Nonemployed members also have to pay an extra cost to work, which is rationalized as a search cost $sc_j$\n",
    "\n",
    "### Human Capital Accumulation  \n",
    "The model allows endogenous human capital accumulation for both genders with a higher level of working experience ($\\kappa$) implying a higher productivity component ($\\epsilon$). Experience and productivity are related through the following function\n",
    "  \n",
    "$$log \\ \\epsilon^i (\\kappa) \\ = \\ \\chi_1 log(1 \\ + \\ \\chi_0^i \\ + \\ \\gamma(\\kappa \\ - \\ 1))$$\n",
    "  \n",
    "$\\chi_0^i$ depends on gender to reflect the average wage differences between males and females with equal experience and $\\gamma$ is a scale parameter involving the number of grid points set for $\\kappa$ and the maximum amount of working years.  \n",
    "\n",
    "### Productivity  \n",
    "Each period, household members receive wages $\\hat{w}$ depending on the market wage $w$, their skill $z$ and experience $\\kappa$ and a persistent idiosyncratic shock $x$ with skills distributed across households as $log(z) \\sim N(0, \\sigma_z^2)$ where booth household member share the same level of skill.\n",
    "\n",
    "### Asset Market and Borrowing Constraints  \n",
    "The asset market is incomplete supporting the evidence that consumption responds to income change. Furthermore, the set of financial isntruments is restricted to risk free assets $a$, which costs 1 consumption unit at time $y$ and pays $(1 \\ + \\ r)$ at time $t \\ + \\ 1)$. The real interest rate r is determined endogenously in the model. Houeholds are allowed to borrow up to a limit $\\underline(a)$ which affects labor response. Agents saves for three resons, namely:\n",
    "* Intertemporal savings motive\n",
    "* Precautionary savings motive\n",
    "* Life-cycle savings motive  \n",
    "\n",
    "### Production  \n",
    "The representative firm operated with a Cobb-Douglas production function with an aggregate resource constraint given by\n",
    "    \n",
    "$$C \\ + \\ (n \\ + \\ \\delta )K \\ + G \\ = \\ f(K,L)$$\n",
    "  \n",
    "where $\\delta$ is the depreciation rate.\n",
    "  \n",
    "### Government  \n",
    "The government oeprates a balanced pay-as-you-go Social Security (ss) system and households receives the ss benefits that are independent of the contributions they give an are finance by a proportional labor taxes $\\tau_ss$. The payroll tax is exogenous. Furthermore, the government taxes consumption, capital and labor to finance their expenditure. Consumption tax $\\tau_c$ and capital income tax $\\tau_k$ are proportional and exogenous.  \n",
    "Tax rates are computed based on total pre-tax labor earnings  $W \\ = \\ \\hat{w}^m h^m \\ + \\hat{w}^f h^f$ where $\\hat{w} \\ = \\ wz\\epsilon x$. Tax rates also depends on the filing status $\\mathcal{F}$, with households filing as single (S) or joint (J). The tax schedule is nonlinear and has the form:  \n",
    "  \n",
    "$$T_L (W; \\mathcal{F}) \\ = \\ W \\ - \\ (1 \\ - \\ \\tau_0) W^{1-\\tau_1 (\\mathcal{F})}$$\n",
    "  \n",
    "### Household's Problem  \n",
    "Households are indexed by their skill type and age $(z, j)$. State variables are the household's asset holdings a, the stochastic productivity components of its members $\\textbf{x}^i \\ = \\ \\{ x^m, x^f \\}$, labor market experience $\\kappa \\ = \\ \\{ \\kappa^m, \\ \\kappa^f \\}$ and the previous employment status of each member $\\textbf{E}_{-1} \\ = \\ \\{ E_{-1}^m, \\ E_{-1}^f \\}$.  \n",
    "There are two value functions used in this model. The value function for a hosuehold that employes both members is:\n",
    "  \n",
    "\\begin{align}\n",
    " V_{zj}^{ \\{E, \\ E\\} } (a, \\ \\mathbf{x, \\ \\kappa, \\ E_{-1}})\\\\\n",
    " = \\max_{c, \\ a', \\ h^m, \\ h^f} \\bigg\\{ & \\ log(c) \\ + \\psi_{j}^m \\frac{(1 \\ - \\ h^m)^{1 \\ - \\ \\theta}} {1 \\ - \\ \\theta} \\ + \\ \\psi_j^F \\frac{(1 \\ - \\ h^f)^{1 \\ - \\ \\theta}}{1 \\ - \\ \\theta} \\ - \\ \\sum_{i=\\{m,f\\}} \\zeta(E_{-1}^1)\\\\\n",
    "  & + \\beta s_{j+1} \\ \\sum_{Xm'} \\sum_{Xf'} \\ \\Gamma_{x_m x'_m} \\ \\Gamma_{x_f x'_f}\\\\\n",
    "  & \\times \\bigg[ 1 \\ - \\lambda^m)(1 \\ - \\lambda^f) \\ \\sum_{s=0}^3 p_sV_{z(j+1)}^0 (a', \\mathbf{x',\\kappa^s,E})\\\\\n",
    "  & + \\ (1 \\ - \\lambda^m) \\lambda^f \\ \\sum_{s=0}^3 p_sV_{z(j+1)}^1 (a', \\mathbf{x',\\kappa^s,E})\\\\\n",
    "  & + \\lambda^m (1 \\ - \\lambda^f) \\ \\sum_{s=0}^3 p_sV_{z(j+1)}^2 (a', \\mathbf{x',\\kappa^s,E})\\\\\n",
    "  & + \\lambda^m\\lambda^f \\ \\sum_{s=0}^3 p_sV_{z(j+1)}^{\\{NE \\ NE\\}} (a', \\mathbf{x',\\kappa^s,E}) \\bigg] \\bigg\\}\\\\\n",
    "\\end{align}\n",
    "  \n",
    "s.t.  \n",
    "  \n",
    "  \n",
    "$(1 + \\tau_c)c \\ + \\ a' \\ = \\ (1 \\ - \\ \\tau_{ss})W \\ - \\ T_L (W; \\ J) \\ + \\ (1 \\ + \\ r(1 \\ - \\ \\tau_k))(a \\ + \\ Tr)$\n",
    "  \n",
    "  \n",
    "While the value function for a household that employs only the male member is:\n",
    "    \n",
    "\\begin{align}\n",
    " V_{zj}^{ \\{E, \\ NE\\} } (a, \\ \\mathbf{x, \\ \\kappa, \\ E_{-1}})\\\\\n",
    " = \\max_{c, \\ a', \\ h^m} \\bigg\\{ & \\ log(c) \\ + \\psi_{j}^m \\frac{(1 \\ - \\ h^m)^{1 \\ - \\ \\theta}} {1 \\ - \\ \\theta} \\ + \\ \\psi_j^f \\frac{(1 \\ - \\ h^f)^{1 \\ - \\ \\theta}}{1 \\ - \\ \\theta} \\ - \\ \\zeta(E_{-1}^m)\\\\\n",
    "  & + \\beta s_{j+1} \\ \\sum_{Xm'} \\sum_{Xf'} \\ \\Gamma_{x_m x'_m} \\ \\Gamma_{x_f x'_f}\\\\\n",
    "  & \\times \\bigg[ \\frac{(1 \\ - \\ \\lambda^m)}{1 \\ - \\ p} \\ \\sum_{s=\\{1, \\ 3\\}} \\  p_s V_{z(j+1)}^1 (a', \\mathbf{x',\\kappa^s,E})\\\\\n",
    "  & + \\ \\frac{(\\lambda^m)}{1 \\ - \\ p} \\ \\sum_{s=\\{1, \\ 3\\}} \\  p_s V_{z(j+1)}^{\\{NE, \\ NE\\}} (a', \\mathbf{x',\\kappa^s,E} \\bigg] \\bigg\\}\\\\\n",
    "\\end{align}\n",
    "  \n",
    "s.t.  \n",
    "  \n",
    "$h^f \\ = \\ 0$  \n",
    "$(1 + \\tau_c)c \\ + \\ a' \\ = \\ (1 \\ - \\ \\tau_{ss})W \\ - \\ T_L (W; \\ S) \\ + \\ (1 \\ + \\ r(1 \\ - \\ \\tau_k))(a \\ + \\ Tr)$"
   ]
  },
  {
   "cell_type": "markdown",
   "metadata": {},
   "source": [
    "## Results  \n",
    "\n",
    "The authors conducted a number of experiments. What follows is a summary of the main experiments.  \n",
    " \n",
    "### Optimal Tax Systems  \n",
    "\n",
    "The figure below (Figure 4) describes the optimal labor income tax code for every possible set of tax instruments shown in the table below it (Table 5).\n",
    "<center><img src=\"Figure4.png\" style=\"height:400px\"></center>  \n",
    "<center><img src=\"Table5.png\" style=\"height:200px\"></center>  \n",
    "The main findings are as follows:  \n",
    "* Average tax rates are hump shaped in age. A two earner households with an average income of \\$86,509 pays 19$ in income taxes in the benchmark economy while the simulation using all tags results at a 2% rate at age 25, 26% in age 45 and 24%  at age 65.\n",
    "* Average tax rates decreases in hosehold assets. Optimal taxation shows interaction among age and assets, with atx rate decreasing only for wealthier households close to retirement age.\n",
    "* Households with two earners faces a lower rate relative to single-earners. Single earners in the optimal system pays 23.8% while joint files pay 18.6%. Filing status is neither susbstitutes nor complements of the other two tags.\n",
    "\n",
    "### Aggregate Effects of Reforms  \n",
    "\n",
    "The table below (Table 6) shows the perecentage change in aggregate variables between the benchmark economy and the optimal economy for each tax system. \n",
    "<center><img src=\"Table6.png\" style=\"height:200px\"></center>  \n",
    "The main findings are as follows:\n",
    "* Age dependent and asset dependent taxes increases capital by 9.5%\n",
    "* Consumption increases by 0.9% and 2.6% respectively.\n",
    "* Consumption Gini decreases by 1.7% compared to the benchmark model\n",
    "* Welfare increases by 0.4%  \n",
    "The figure below (Figure 5) exhibits the effects of each reform on life-cycle profiles, namely, household assets, hours of work and consumption (for both genders)\n",
    "<center><img src=\"Figure5.png\" style=\"height:400px\"></center>   \n",
    "As shown in the figure, when age dependent taxes is combined with asset dependent taxes, they enourage saving throughout the life cycle. Next, applying the filing status tag increases female hours without decreasing male hours by a significant amount. The age dependent taxes also shifts hours of work towards younger age workers. \n",
    "  "
   ]
  },
  {
   "cell_type": "markdown",
   "metadata": {},
   "source": [
    "## Conclusion  \n",
    "  \n",
    "Optimal labor income taxes are hump shaped in age, are lower for households where both couple isworking and decreasing\n",
    "in household assets. Due to the elasticity of labor supply among households, applying multiple tags is shown to be able \n",
    "to increase aggregate consumption and welfare by 6.4% and 1.5% respectively.  \n",
    "  \n",
    "The paper also found that age and asset to be complimentary in that, when combined as tags, they increase welfare twice \n",
    "as much as the sum of individual policies. No such complimentarity was found with respect to filing stattus."
   ]
  }
 ],
 "metadata": {
  "kernelspec": {
   "display_name": "Python 3",
   "language": "python",
   "name": "python3"
  },
  "language_info": {
   "codemirror_mode": {
    "name": "ipython",
    "version": 3
   },
   "file_extension": ".py",
   "mimetype": "text/x-python",
   "name": "python",
   "nbconvert_exporter": "python",
   "pygments_lexer": "ipython3",
   "version": "3.7.3"
  }
 },
 "nbformat": 4,
 "nbformat_minor": 4
}
